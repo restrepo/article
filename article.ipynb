{
 "cells": [
  {
   "cell_type": "code",
   "execution_count": 9,
   "metadata": {
    "collapsed": false
   },
   "outputs": [],
   "source": [
    "import pandas as pd\n",
    "from article import *"
   ]
  },
  {
   "cell_type": "code",
   "execution_count": 4,
   "metadata": {
    "collapsed": true
   },
   "outputs": [],
   "source": [
    "art=pd.read_csv('https://raw.githubusercontent.com/restrepo/gssis/master/utilities/newcitations.csv')"
   ]
  },
  {
   "cell_type": "code",
   "execution_count": 7,
   "metadata": {
    "collapsed": false
   },
   "outputs": [
    {
     "data": {
      "text/plain": [
       "(634, 19)"
      ]
     },
     "execution_count": 7,
     "metadata": {},
     "output_type": "execute_result"
    }
   ],
   "source": [
    "art[~art.DOI.str.contains('Not DOI')].shape"
   ]
  },
  {
   "cell_type": "code",
   "execution_count": null,
   "metadata": {
    "collapsed": true
   },
   "outputs": [],
   "source": [
    "art['citations']=''\n",
    "for i in range(art.shape[0]):\n",
    "    if art.DOI[i]!='Not DOI':\n",
    "        if i%10==0:\n",
    "            print i\n",
    "        a=article(art.DOI[i],json=False)\n",
    "        if 'number' in a.citedby:\n",
    "            art.citations[i]=a.citedby.number"
   ]
  },
  {
   "cell_type": "code",
   "execution_count": 36,
   "metadata": {
    "collapsed": false
   },
   "outputs": [
    {
     "data": {
      "text/plain": [
       "1    126\n",
       "4     76\n",
       "6     43\n",
       "Name: citations, dtype: object"
      ]
     },
     "execution_count": 36,
     "metadata": {},
     "output_type": "execute_result"
    }
   ],
   "source": [
    "art[art.citations!=''].citations"
   ]
  },
  {
   "cell_type": "code",
   "execution_count": 54,
   "metadata": {
    "collapsed": false
   },
   "outputs": [
    {
     "name": "stdout",
     "output_type": "stream",
     "text": [
      "\n",
      "<bound method DataFrame.to_string of   affiliation          family   given\n",
      "0          []        Restrepo   Diego\n",
      "1          []          Rivera  Andrés\n",
      "2          []  Sánchez-Peláez   Marta\n",
      "3          []          Zapata   Oscar\n",
      "4          []       Tangarife  Walter>\n"
     ]
    }
   ],
   "source": [
    "# %load article.py\n",
    "#!/usr/bin/env python\n",
    "'''\n",
    "Module article: Fill article object from DOI\n",
    "json: from DOI API\n",
    "citations: from Google Scholar\n",
    "Colciencias Info from ISSN or Journal name: depends on json\n",
    "'''\n",
    "import time\n",
    "import requests\n",
    "import pandas as pd\n",
    "pd.set_option('display.max_rows', 500)\n",
    "pd.set_option('display.max_columns', 500)\n",
    "pd.set_option('display.max_colwidth',500)\n",
    "\n",
    "def google_search(q='hello world'):\n",
    "    '''\n",
    "    From: http://stackoverflow.com/a/29292168\n",
    "    '''\n",
    "    rd={}\n",
    "    link = 'http://ajax.googleapis.com/ajax/services/search/web?v=1.0&%s' %q\n",
    "    ua = {'User-Agent': 'Mozilla/5.0 (Macintosh; Intel Mac OS X 10_8_2)\\\n",
    "           AppleWebKit/537.36 (KHTML, like Gecko) Chrome/27.0.1453.116 Safari/537.36'}                                                                \n",
    "    payload = {'q': q}                                                                                                                                                                                   \n",
    "    r = requests.get(link, headers=ua, params=payload)\n",
    "    if r.status_code==200:\n",
    "        rd=r.json()\n",
    "    return rd\n",
    "    \n",
    "def ImpactFactor(issn='1539-3755'):\n",
    "    ifdf=pd.DataFrame()\n",
    "    q='site:www.bioxbio.com/if/ %s' %issn\n",
    "    rd=google_search(q)\n",
    "    \n",
    "    IF=''\n",
    "    if rd:\n",
    "        if rd.has_key('responseData'): # if exits, is a dict\n",
    "            if rd['responseData'].has_key('results'): \n",
    "                if len(rd['responseData']['results'])>0:\n",
    "                    if rd['responseData']['results'][0].has_key('content'):\n",
    "                        IF=rd['responseData']['results'][0]['content']\n",
    "        \n",
    "        if IF:\n",
    "            IF=IF.replace('\\n','').split('impact factors:')\n",
    "            if len(IF)>0:\n",
    "                IF=IF[1].split('. ISSN')[0].split(',') #always works for a string\n",
    "                IF=[ify.replace(')','').split('(') for ify in  IF]\n",
    "                if len(IF[0])==2:\n",
    "                    ifdf=pd.DataFrame(IF,columns=['IF','Year'])\n",
    "                    \n",
    "    return ifdf\n",
    "\n",
    "def keysdash2underscore(ds):\n",
    "    '''\n",
    "    Convert keys with dash  to keys with underscore\n",
    "    '''\n",
    "    dfk=pd.DataFrame(ds.keys(),columns=['keys'])\n",
    "    for k in dfk[dfk['keys'].str.contains('[A-Za-z]+-[A-Za-z]')].values:\n",
    "        ds[k[0].replace('-','_')]=ds[k[0]]\n",
    "        \n",
    "    return ds\n",
    "\n",
    "class doi(object):\n",
    "    '''\n",
    "    Obtain info from D0I\n",
    "    doi: article\n",
    "                \n",
    "    doi: journal\n",
    "    da=doi.article(citations=False)\n",
    "    dj=doi.journal(impact_factor=False,ranking_colciencias=False)\n",
    "    '''\n",
    "    urldoi='http://dx.doi.org/'\n",
    "    citedby=pd.Series()\n",
    "    json=pd.Series()\n",
    "    def __init__(self,doi='10.1007/JHEP11(2013)011'):\n",
    "            \n",
    "        self.doi=doi.replace(self.urldoi,'')\n",
    "        self.issn=''\n",
    "        #print 'TODO: JSON metadata here'\n",
    "        \n",
    "    def get_citations(self):   \n",
    "        if self.doi:\n",
    "            r=requests.get('https://scholar.google.com/scholar?q=%s' %self.urldoi+self.doi)\n",
    "            time.sleep(60)\n",
    "            sep='\">Cited by'\n",
    "            self.citedby['number']='';self.citedby['url']='';self.citedby.status='OK'\n",
    "            if r.text.find('CAPTCHA')!=-1:\n",
    "                self.status='CAPTCHA'\n",
    "            if r.text.find(sep)!=-1:\n",
    "                rr=r.text.split(sep)\n",
    "                self.citedby['number']=rr[1].split('</a>')[0].strip()\n",
    "                self.citedby['url']='https://scholar.google.com%s' %rr[0].split('<a href=\"')[-1]\n",
    "                \n",
    "    def get_metadata(self):\n",
    "        if self.doi:\n",
    "            r=requests.get(self.urldoi+self.doi,\\\n",
    "                       headers ={'Accept': 'application/citeproc+json'})\n",
    "            if r.status_code==200:\n",
    "                self.json=pd.Series(r.json())\n",
    "                self.json=keysdash2underscore(self.json)\n",
    "                for k in self.json.keys():\n",
    "                    if type(self.json[k])==dict:\n",
    "                        self.json[k]=pd.Series(self.json[k])\n",
    "                        self.json[k]=keysdash2underscore(self.json[k])\n",
    "                        \n",
    "                    if type(self.json[k])==list:\n",
    "                        if k=='author' or k=='funder' or k=='license' or k=='link':\n",
    "                            if self.json[k]:\n",
    "                                self.json[k]=pd.DataFrame(self.json[k])\n",
    "                        if k=='subject' or k=='subtitle':\n",
    "                            if self.json[k]:\n",
    "                                self.json[k]=self.json[k][0]\n",
    "                #proper sub-Series for nested json keys...\n",
    "        #if not colciencias:\n",
    "        #    if json:\n",
    "        #        self.issn=self.json.ISSN[0]\n",
    "        #else: force issn colciencias\n",
    "    def get_impact_factor(self):\n",
    "        if not self.issn:\n",
    "            IF=self.get_metadata()\n",
    "            self.issn=IF.json.ISSN[0]\n",
    "            self.impact_factor=ImpactFactor(self.issn)\n",
    "\n",
    "            \n",
    "    def article(self,citations=False):\n",
    "        self.article=self.json\n",
    "if __name__ == \"__main__\":                \n",
    "    a=article(doi='http://dx.doi.org/10.1103/PhysRevD.92.013005')\n",
    "    print a.citedby.number\n",
    "    print a.json.author.to_string"
   ]
  },
  {
   "cell_type": "code",
   "execution_count": 55,
   "metadata": {
    "collapsed": true
   },
   "outputs": [],
   "source": [
    "a=doi(doi='http://dx.doi.org/10.1103/PhysRevD.92.013005')"
   ]
  },
  {
   "cell_type": "code",
   "execution_count": 42,
   "metadata": {
    "collapsed": true
   },
   "outputs": [],
   "source": [
    "a.get_metadata()"
   ]
  },
  {
   "cell_type": "code",
   "execution_count": 43,
   "metadata": {
    "collapsed": true
   },
   "outputs": [],
   "source": [
    "a.get_citations()"
   ]
  },
  {
   "cell_type": "code",
   "execution_count": 45,
   "metadata": {
    "collapsed": false
   },
   "outputs": [
    {
     "data": {
      "text/plain": [
       "'CAPTCHA'"
      ]
     },
     "execution_count": 45,
     "metadata": {},
     "output_type": "execute_result"
    }
   ],
   "source": [
    "a.status"
   ]
  },
  {
   "cell_type": "code",
   "execution_count": 56,
   "metadata": {
    "collapsed": false
   },
   "outputs": [
    {
     "ename": "AttributeError",
     "evalue": "'NoneType' object has no attribute 'json'",
     "output_type": "error",
     "traceback": [
      "\u001b[1;31m---------------------------------------------------------------------------\u001b[0m",
      "\u001b[1;31mAttributeError\u001b[0m                            Traceback (most recent call last)",
      "\u001b[1;32m<ipython-input-56-dfce96535123>\u001b[0m in \u001b[0;36m<module>\u001b[1;34m()\u001b[0m\n\u001b[1;32m----> 1\u001b[1;33m \u001b[0ma\u001b[0m\u001b[1;33m.\u001b[0m\u001b[0mget_impact_factor\u001b[0m\u001b[1;33m(\u001b[0m\u001b[1;33m)\u001b[0m\u001b[1;33m\u001b[0m\u001b[0m\n\u001b[0m",
      "\u001b[1;32m<ipython-input-54-12f9c0c22e19>\u001b[0m in \u001b[0;36mget_impact_factor\u001b[1;34m(self)\u001b[0m\n\u001b[0;32m    117\u001b[0m         \u001b[1;32mif\u001b[0m \u001b[1;32mnot\u001b[0m \u001b[0mself\u001b[0m\u001b[1;33m.\u001b[0m\u001b[0missn\u001b[0m\u001b[1;33m:\u001b[0m\u001b[1;33m\u001b[0m\u001b[0m\n\u001b[0;32m    118\u001b[0m             \u001b[0mIF\u001b[0m\u001b[1;33m=\u001b[0m\u001b[0mself\u001b[0m\u001b[1;33m.\u001b[0m\u001b[0mget_metadata\u001b[0m\u001b[1;33m(\u001b[0m\u001b[1;33m)\u001b[0m\u001b[1;33m\u001b[0m\u001b[0m\n\u001b[1;32m--> 119\u001b[1;33m             \u001b[0mself\u001b[0m\u001b[1;33m.\u001b[0m\u001b[0missn\u001b[0m\u001b[1;33m=\u001b[0m\u001b[0mIF\u001b[0m\u001b[1;33m.\u001b[0m\u001b[0mjson\u001b[0m\u001b[1;33m.\u001b[0m\u001b[0mISSN\u001b[0m\u001b[1;33m[\u001b[0m\u001b[1;36m0\u001b[0m\u001b[1;33m]\u001b[0m\u001b[1;33m\u001b[0m\u001b[0m\n\u001b[0m\u001b[0;32m    120\u001b[0m             \u001b[0mself\u001b[0m\u001b[1;33m.\u001b[0m\u001b[0mimpact_factor\u001b[0m\u001b[1;33m=\u001b[0m\u001b[0mImpactFactor\u001b[0m\u001b[1;33m(\u001b[0m\u001b[0mself\u001b[0m\u001b[1;33m.\u001b[0m\u001b[0missn\u001b[0m\u001b[1;33m)\u001b[0m\u001b[1;33m\u001b[0m\u001b[0m\n\u001b[0;32m    121\u001b[0m \u001b[1;33m\u001b[0m\u001b[0m\n",
      "\u001b[1;31mAttributeError\u001b[0m: 'NoneType' object has no attribute 'json'"
     ]
    }
   ],
   "source": [
    "a.get_impact_factor()"
   ]
  },
  {
   "cell_type": "code",
   "execution_count": null,
   "metadata": {
    "collapsed": true
   },
   "outputs": [],
   "source": []
  }
 ],
 "metadata": {
  "kernelspec": {
   "display_name": "Python 2",
   "language": "python",
   "name": "python2"
  },
  "language_info": {
   "codemirror_mode": {
    "name": "ipython",
    "version": 2
   },
   "file_extension": ".py",
   "mimetype": "text/x-python",
   "name": "python",
   "nbconvert_exporter": "python",
   "pygments_lexer": "ipython2",
   "version": "2.7.9"
  }
 },
 "nbformat": 4,
 "nbformat_minor": 0
}
